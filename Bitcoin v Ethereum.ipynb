{
 "cells": [
  {
   "cell_type": "markdown",
   "id": "39fe5cd8",
   "metadata": {},
   "source": [
    "# Comparing Bitcoin and Ethereum Data\n",
    "#### This project will be comparing both trends of the cryptocurrencies and individually analysed\n",
    "This project is a self made project by Gordon Wu\n"
   ]
  },
  {
   "cell_type": "markdown",
   "id": "1da9409f",
   "metadata": {},
   "source": [
    "The data is taken from https://www.cryptodatadownload.com"
   ]
  },
  {
   "cell_type": "code",
   "execution_count": 1,
   "id": "e0428a62",
   "metadata": {},
   "outputs": [],
   "source": [
    "import numpy as np\n",
    "import pandas as pd\n",
    "import os"
   ]
  },
  {
   "cell_type": "markdown",
   "id": "8d03ea5d",
   "metadata": {},
   "source": [
    "#### Retrieving database"
   ]
  },
  {
   "cell_type": "code",
   "execution_count": 2,
   "id": "5ca0a876",
   "metadata": {},
   "outputs": [],
   "source": [
    "BTCdf = pd.read_csv('data/BitcoinHourly.csv')\n",
    "ETHdf = pd.read_csv('data/ETHHourly.csv')"
   ]
  },
  {
   "cell_type": "markdown",
   "id": "ca0d86de",
   "metadata": {},
   "source": [
    "### Checking database contents"
   ]
  },
  {
   "cell_type": "code",
   "execution_count": 3,
   "id": "6ba16060",
   "metadata": {},
   "outputs": [
    {
     "data": {
      "text/html": [
       "<div>\n",
       "<style scoped>\n",
       "    .dataframe tbody tr th:only-of-type {\n",
       "        vertical-align: middle;\n",
       "    }\n",
       "\n",
       "    .dataframe tbody tr th {\n",
       "        vertical-align: top;\n",
       "    }\n",
       "\n",
       "    .dataframe thead th {\n",
       "        text-align: right;\n",
       "    }\n",
       "</style>\n",
       "<table border=\"1\" class=\"dataframe\">\n",
       "  <thead>\n",
       "    <tr style=\"text-align: right;\">\n",
       "      <th></th>\n",
       "      <th>unix</th>\n",
       "      <th>date</th>\n",
       "      <th>symbol</th>\n",
       "      <th>open</th>\n",
       "      <th>high</th>\n",
       "      <th>low</th>\n",
       "      <th>close</th>\n",
       "      <th>Volume BTC</th>\n",
       "      <th>Volume USD</th>\n",
       "    </tr>\n",
       "  </thead>\n",
       "  <tbody>\n",
       "    <tr>\n",
       "      <th>0</th>\n",
       "      <td>1630108800</td>\n",
       "      <td>2021-08-28 00:00:00</td>\n",
       "      <td>BTC/USD</td>\n",
       "      <td>49100.49</td>\n",
       "      <td>49250.00</td>\n",
       "      <td>48875.00</td>\n",
       "      <td>48992.83</td>\n",
       "      <td>3.633715e+01</td>\n",
       "      <td>1.780260e+06</td>\n",
       "    </tr>\n",
       "    <tr>\n",
       "      <th>1</th>\n",
       "      <td>1630105200</td>\n",
       "      <td>2021-08-27 23:00:00</td>\n",
       "      <td>BTC/USD</td>\n",
       "      <td>49066.42</td>\n",
       "      <td>49139.95</td>\n",
       "      <td>48906.19</td>\n",
       "      <td>49100.49</td>\n",
       "      <td>5.579023e+01</td>\n",
       "      <td>2.739328e+06</td>\n",
       "    </tr>\n",
       "    <tr>\n",
       "      <th>2</th>\n",
       "      <td>1630101600</td>\n",
       "      <td>2021-08-27 22:00:00</td>\n",
       "      <td>BTC/USD</td>\n",
       "      <td>48999.57</td>\n",
       "      <td>49069.38</td>\n",
       "      <td>48725.00</td>\n",
       "      <td>49014.60</td>\n",
       "      <td>3.628698e+01</td>\n",
       "      <td>1.778592e+06</td>\n",
       "    </tr>\n",
       "    <tr>\n",
       "      <th>3</th>\n",
       "      <td>1630098000</td>\n",
       "      <td>2021-08-27 21:00:00</td>\n",
       "      <td>BTC/USD</td>\n",
       "      <td>48995.23</td>\n",
       "      <td>49089.58</td>\n",
       "      <td>48889.00</td>\n",
       "      <td>49005.09</td>\n",
       "      <td>5.816773e+01</td>\n",
       "      <td>2.850515e+06</td>\n",
       "    </tr>\n",
       "    <tr>\n",
       "      <th>4</th>\n",
       "      <td>1630094400</td>\n",
       "      <td>2021-08-27 20:00:00</td>\n",
       "      <td>BTC/USD</td>\n",
       "      <td>48332.44</td>\n",
       "      <td>49187.00</td>\n",
       "      <td>48188.88</td>\n",
       "      <td>48950.41</td>\n",
       "      <td>1.283265e+02</td>\n",
       "      <td>6.281634e+06</td>\n",
       "    </tr>\n",
       "    <tr>\n",
       "      <th>...</th>\n",
       "      <td>...</td>\n",
       "      <td>...</td>\n",
       "      <td>...</td>\n",
       "      <td>...</td>\n",
       "      <td>...</td>\n",
       "      <td>...</td>\n",
       "      <td>...</td>\n",
       "      <td>...</td>\n",
       "      <td>...</td>\n",
       "    </tr>\n",
       "    <tr>\n",
       "      <th>28814</th>\n",
       "      <td>1526378400</td>\n",
       "      <td>2018-05-15 10:00:00</td>\n",
       "      <td>BTC/USD</td>\n",
       "      <td>8708.32</td>\n",
       "      <td>8865.00</td>\n",
       "      <td>8695.11</td>\n",
       "      <td>8795.90</td>\n",
       "      <td>1.110127e+07</td>\n",
       "      <td>1.260690e+03</td>\n",
       "    </tr>\n",
       "    <tr>\n",
       "      <th>28815</th>\n",
       "      <td>1526374800</td>\n",
       "      <td>2018-05-15 09:00:00</td>\n",
       "      <td>BTC/USD</td>\n",
       "      <td>8728.49</td>\n",
       "      <td>8754.40</td>\n",
       "      <td>8701.35</td>\n",
       "      <td>8708.32</td>\n",
       "      <td>1.593992e+06</td>\n",
       "      <td>1.826200e+02</td>\n",
       "    </tr>\n",
       "    <tr>\n",
       "      <th>28816</th>\n",
       "      <td>1526371200</td>\n",
       "      <td>2018-05-15 08:00:00</td>\n",
       "      <td>BTC/USD</td>\n",
       "      <td>8739.00</td>\n",
       "      <td>8750.27</td>\n",
       "      <td>8660.53</td>\n",
       "      <td>8728.49</td>\n",
       "      <td>7.986063e+06</td>\n",
       "      <td>9.177900e+02</td>\n",
       "    </tr>\n",
       "    <tr>\n",
       "      <th>28817</th>\n",
       "      <td>1526367600</td>\n",
       "      <td>2018-05-15 07:00:00</td>\n",
       "      <td>BTC/USD</td>\n",
       "      <td>8740.99</td>\n",
       "      <td>8766.00</td>\n",
       "      <td>8721.11</td>\n",
       "      <td>8739.00</td>\n",
       "      <td>2.390399e+06</td>\n",
       "      <td>2.735800e+02</td>\n",
       "    </tr>\n",
       "    <tr>\n",
       "      <th>28818</th>\n",
       "      <td>1526364000</td>\n",
       "      <td>2018-05-15 06:00:00</td>\n",
       "      <td>BTC/USD</td>\n",
       "      <td>8733.86</td>\n",
       "      <td>8796.68</td>\n",
       "      <td>8707.28</td>\n",
       "      <td>8740.99</td>\n",
       "      <td>4.906603e+06</td>\n",
       "      <td>5.599300e+02</td>\n",
       "    </tr>\n",
       "  </tbody>\n",
       "</table>\n",
       "<p>28819 rows × 9 columns</p>\n",
       "</div>"
      ],
      "text/plain": [
       "             unix                 date   symbol      open      high       low  \\\n",
       "0      1630108800  2021-08-28 00:00:00  BTC/USD  49100.49  49250.00  48875.00   \n",
       "1      1630105200  2021-08-27 23:00:00  BTC/USD  49066.42  49139.95  48906.19   \n",
       "2      1630101600  2021-08-27 22:00:00  BTC/USD  48999.57  49069.38  48725.00   \n",
       "3      1630098000  2021-08-27 21:00:00  BTC/USD  48995.23  49089.58  48889.00   \n",
       "4      1630094400  2021-08-27 20:00:00  BTC/USD  48332.44  49187.00  48188.88   \n",
       "...           ...                  ...      ...       ...       ...       ...   \n",
       "28814  1526378400  2018-05-15 10:00:00  BTC/USD   8708.32   8865.00   8695.11   \n",
       "28815  1526374800  2018-05-15 09:00:00  BTC/USD   8728.49   8754.40   8701.35   \n",
       "28816  1526371200  2018-05-15 08:00:00  BTC/USD   8739.00   8750.27   8660.53   \n",
       "28817  1526367600  2018-05-15 07:00:00  BTC/USD   8740.99   8766.00   8721.11   \n",
       "28818  1526364000  2018-05-15 06:00:00  BTC/USD   8733.86   8796.68   8707.28   \n",
       "\n",
       "          close    Volume BTC    Volume USD  \n",
       "0      48992.83  3.633715e+01  1.780260e+06  \n",
       "1      49100.49  5.579023e+01  2.739328e+06  \n",
       "2      49014.60  3.628698e+01  1.778592e+06  \n",
       "3      49005.09  5.816773e+01  2.850515e+06  \n",
       "4      48950.41  1.283265e+02  6.281634e+06  \n",
       "...         ...           ...           ...  \n",
       "28814   8795.90  1.110127e+07  1.260690e+03  \n",
       "28815   8708.32  1.593992e+06  1.826200e+02  \n",
       "28816   8728.49  7.986063e+06  9.177900e+02  \n",
       "28817   8739.00  2.390399e+06  2.735800e+02  \n",
       "28818   8740.99  4.906603e+06  5.599300e+02  \n",
       "\n",
       "[28819 rows x 9 columns]"
      ]
     },
     "execution_count": 3,
     "metadata": {},
     "output_type": "execute_result"
    }
   ],
   "source": [
    "BTCdf"
   ]
  },
  {
   "cell_type": "code",
   "execution_count": 4,
   "id": "790194a0",
   "metadata": {},
   "outputs": [
    {
     "data": {
      "text/html": [
       "<div>\n",
       "<style scoped>\n",
       "    .dataframe tbody tr th:only-of-type {\n",
       "        vertical-align: middle;\n",
       "    }\n",
       "\n",
       "    .dataframe tbody tr th {\n",
       "        vertical-align: top;\n",
       "    }\n",
       "\n",
       "    .dataframe thead th {\n",
       "        text-align: right;\n",
       "    }\n",
       "</style>\n",
       "<table border=\"1\" class=\"dataframe\">\n",
       "  <thead>\n",
       "    <tr style=\"text-align: right;\">\n",
       "      <th></th>\n",
       "      <th>unix</th>\n",
       "      <th>date</th>\n",
       "      <th>symbol</th>\n",
       "      <th>open</th>\n",
       "      <th>high</th>\n",
       "      <th>low</th>\n",
       "      <th>close</th>\n",
       "      <th>Volume ETH</th>\n",
       "      <th>Volume USD</th>\n",
       "    </tr>\n",
       "  </thead>\n",
       "  <tbody>\n",
       "    <tr>\n",
       "      <th>0</th>\n",
       "      <td>1630108800</td>\n",
       "      <td>2021-08-28 00:00:00</td>\n",
       "      <td>ETH/USD</td>\n",
       "      <td>3271.67</td>\n",
       "      <td>3288.71</td>\n",
       "      <td>3260.01</td>\n",
       "      <td>3268.53</td>\n",
       "      <td>2.095992e+02</td>\n",
       "      <td>6.850812e+05</td>\n",
       "    </tr>\n",
       "    <tr>\n",
       "      <th>1</th>\n",
       "      <td>1630105200</td>\n",
       "      <td>2021-08-27 23:00:00</td>\n",
       "      <td>ETH/USD</td>\n",
       "      <td>3276.08</td>\n",
       "      <td>3283.47</td>\n",
       "      <td>3263.28</td>\n",
       "      <td>3276.68</td>\n",
       "      <td>2.336721e+02</td>\n",
       "      <td>7.656687e+05</td>\n",
       "    </tr>\n",
       "    <tr>\n",
       "      <th>2</th>\n",
       "      <td>1630101600</td>\n",
       "      <td>2021-08-27 22:00:00</td>\n",
       "      <td>ETH/USD</td>\n",
       "      <td>3276.46</td>\n",
       "      <td>3278.17</td>\n",
       "      <td>3255.52</td>\n",
       "      <td>3276.07</td>\n",
       "      <td>3.793405e+02</td>\n",
       "      <td>1.242746e+06</td>\n",
       "    </tr>\n",
       "    <tr>\n",
       "      <th>3</th>\n",
       "      <td>1630098000</td>\n",
       "      <td>2021-08-27 21:00:00</td>\n",
       "      <td>ETH/USD</td>\n",
       "      <td>3264.84</td>\n",
       "      <td>3280.00</td>\n",
       "      <td>3261.52</td>\n",
       "      <td>3276.46</td>\n",
       "      <td>4.899050e+02</td>\n",
       "      <td>1.605154e+06</td>\n",
       "    </tr>\n",
       "    <tr>\n",
       "      <th>4</th>\n",
       "      <td>1630094400</td>\n",
       "      <td>2021-08-27 20:00:00</td>\n",
       "      <td>ETH/USD</td>\n",
       "      <td>3235.00</td>\n",
       "      <td>3277.00</td>\n",
       "      <td>3225.46</td>\n",
       "      <td>3263.73</td>\n",
       "      <td>1.705007e+03</td>\n",
       "      <td>5.564682e+06</td>\n",
       "    </tr>\n",
       "    <tr>\n",
       "      <th>...</th>\n",
       "      <td>...</td>\n",
       "      <td>...</td>\n",
       "      <td>...</td>\n",
       "      <td>...</td>\n",
       "      <td>...</td>\n",
       "      <td>...</td>\n",
       "      <td>...</td>\n",
       "      <td>...</td>\n",
       "      <td>...</td>\n",
       "    </tr>\n",
       "    <tr>\n",
       "      <th>28814</th>\n",
       "      <td>1526378400</td>\n",
       "      <td>2018-05-15 10:00:00</td>\n",
       "      <td>ETH/USD</td>\n",
       "      <td>727.32</td>\n",
       "      <td>739.37</td>\n",
       "      <td>725.04</td>\n",
       "      <td>733.59</td>\n",
       "      <td>1.424388e+06</td>\n",
       "      <td>1.943150e+03</td>\n",
       "    </tr>\n",
       "    <tr>\n",
       "      <th>28815</th>\n",
       "      <td>1526374800</td>\n",
       "      <td>2018-05-15 09:00:00</td>\n",
       "      <td>ETH/USD</td>\n",
       "      <td>731.68</td>\n",
       "      <td>731.82</td>\n",
       "      <td>726.98</td>\n",
       "      <td>727.32</td>\n",
       "      <td>4.384113e+05</td>\n",
       "      <td>6.010300e+02</td>\n",
       "    </tr>\n",
       "    <tr>\n",
       "      <th>28816</th>\n",
       "      <td>1526371200</td>\n",
       "      <td>2018-05-15 08:00:00</td>\n",
       "      <td>ETH/USD</td>\n",
       "      <td>733.82</td>\n",
       "      <td>734.92</td>\n",
       "      <td>721.58</td>\n",
       "      <td>731.68</td>\n",
       "      <td>2.860231e+06</td>\n",
       "      <td>3.924550e+03</td>\n",
       "    </tr>\n",
       "    <tr>\n",
       "      <th>28817</th>\n",
       "      <td>1526367600</td>\n",
       "      <td>2018-05-15 07:00:00</td>\n",
       "      <td>ETH/USD</td>\n",
       "      <td>733.00</td>\n",
       "      <td>735.99</td>\n",
       "      <td>730.45</td>\n",
       "      <td>733.82</td>\n",
       "      <td>2.594569e+05</td>\n",
       "      <td>3.538200e+02</td>\n",
       "    </tr>\n",
       "    <tr>\n",
       "      <th>28818</th>\n",
       "      <td>1526364000</td>\n",
       "      <td>2018-05-15 06:00:00</td>\n",
       "      <td>ETH/USD</td>\n",
       "      <td>732.10</td>\n",
       "      <td>736.67</td>\n",
       "      <td>730.94</td>\n",
       "      <td>733.00</td>\n",
       "      <td>7.662087e+05</td>\n",
       "      <td>1.043910e+03</td>\n",
       "    </tr>\n",
       "  </tbody>\n",
       "</table>\n",
       "<p>28819 rows × 9 columns</p>\n",
       "</div>"
      ],
      "text/plain": [
       "             unix                 date   symbol     open     high      low  \\\n",
       "0      1630108800  2021-08-28 00:00:00  ETH/USD  3271.67  3288.71  3260.01   \n",
       "1      1630105200  2021-08-27 23:00:00  ETH/USD  3276.08  3283.47  3263.28   \n",
       "2      1630101600  2021-08-27 22:00:00  ETH/USD  3276.46  3278.17  3255.52   \n",
       "3      1630098000  2021-08-27 21:00:00  ETH/USD  3264.84  3280.00  3261.52   \n",
       "4      1630094400  2021-08-27 20:00:00  ETH/USD  3235.00  3277.00  3225.46   \n",
       "...           ...                  ...      ...      ...      ...      ...   \n",
       "28814  1526378400  2018-05-15 10:00:00  ETH/USD   727.32   739.37   725.04   \n",
       "28815  1526374800  2018-05-15 09:00:00  ETH/USD   731.68   731.82   726.98   \n",
       "28816  1526371200  2018-05-15 08:00:00  ETH/USD   733.82   734.92   721.58   \n",
       "28817  1526367600  2018-05-15 07:00:00  ETH/USD   733.00   735.99   730.45   \n",
       "28818  1526364000  2018-05-15 06:00:00  ETH/USD   732.10   736.67   730.94   \n",
       "\n",
       "         close    Volume ETH    Volume USD  \n",
       "0      3268.53  2.095992e+02  6.850812e+05  \n",
       "1      3276.68  2.336721e+02  7.656687e+05  \n",
       "2      3276.07  3.793405e+02  1.242746e+06  \n",
       "3      3276.46  4.899050e+02  1.605154e+06  \n",
       "4      3263.73  1.705007e+03  5.564682e+06  \n",
       "...        ...           ...           ...  \n",
       "28814   733.59  1.424388e+06  1.943150e+03  \n",
       "28815   727.32  4.384113e+05  6.010300e+02  \n",
       "28816   731.68  2.860231e+06  3.924550e+03  \n",
       "28817   733.82  2.594569e+05  3.538200e+02  \n",
       "28818   733.00  7.662087e+05  1.043910e+03  \n",
       "\n",
       "[28819 rows x 9 columns]"
      ]
     },
     "execution_count": 4,
     "metadata": {},
     "output_type": "execute_result"
    }
   ],
   "source": [
    "ETHdf"
   ]
  },
  {
   "cell_type": "markdown",
   "id": "ca322de5",
   "metadata": {},
   "source": [
    "### Checking the columns"
   ]
  },
  {
   "cell_type": "code",
   "execution_count": 5,
   "id": "07c35045",
   "metadata": {},
   "outputs": [
    {
     "data": {
      "text/plain": [
       "Index(['unix', 'date', 'symbol', 'open', 'high', 'low', 'close', 'Volume BTC',\n",
       "       'Volume USD'],\n",
       "      dtype='object')"
      ]
     },
     "execution_count": 5,
     "metadata": {},
     "output_type": "execute_result"
    }
   ],
   "source": [
    "BTCdf_cols = BTCdf.columns\n",
    "BTCdf_cols"
   ]
  },
  {
   "cell_type": "code",
   "execution_count": 6,
   "id": "045e0c4a",
   "metadata": {},
   "outputs": [
    {
     "data": {
      "text/plain": [
       "Index(['unix', 'date', 'symbol', 'open', 'high', 'low', 'close', 'Volume ETH',\n",
       "       'Volume USD'],\n",
       "      dtype='object')"
      ]
     },
     "execution_count": 6,
     "metadata": {},
     "output_type": "execute_result"
    }
   ],
   "source": [
    "ETHdf_cols = ETHdf.columns\n",
    "ETHdf_cols"
   ]
  },
  {
   "cell_type": "markdown",
   "id": "b506949a",
   "metadata": {},
   "source": [
    "### Comparing the % of times where the opening price is less than the closing price"
   ]
  },
  {
   "cell_type": "code",
   "execution_count": 7,
   "id": "2414f992",
   "metadata": {},
   "outputs": [
    {
     "data": {
      "text/plain": [
       "50.94902668378501"
      ]
     },
     "execution_count": 7,
     "metadata": {},
     "output_type": "execute_result"
    }
   ],
   "source": [
    "BTCdf[BTCdf.open < BTCdf.close].size/BTCdf.size *100"
   ]
  },
  {
   "cell_type": "code",
   "execution_count": 8,
   "id": "c5613239",
   "metadata": {},
   "outputs": [
    {
     "data": {
      "text/plain": [
       "50.33831847045352"
      ]
     },
     "execution_count": 8,
     "metadata": {},
     "output_type": "execute_result"
    }
   ],
   "source": [
    "ETHdf[ETHdf.open < ETHdf.close].size/ETHdf.size *100"
   ]
  },
  {
   "cell_type": "markdown",
   "id": "690afaab",
   "metadata": {},
   "source": [
    "Evidently, Bitcoin has more increases in prices in the hourly periods but it is negligible\n",
    "### Comparing the % of times when the closing prices is greater than 101.5% of the opening price\n",
    "Creating a new column which compares the opening and closing prices % wise"
   ]
  },
  {
   "cell_type": "code",
   "execution_count": 9,
   "id": "65866fb1",
   "metadata": {},
   "outputs": [
    {
     "data": {
      "text/html": [
       "<div>\n",
       "<style scoped>\n",
       "    .dataframe tbody tr th:only-of-type {\n",
       "        vertical-align: middle;\n",
       "    }\n",
       "\n",
       "    .dataframe tbody tr th {\n",
       "        vertical-align: top;\n",
       "    }\n",
       "\n",
       "    .dataframe thead th {\n",
       "        text-align: right;\n",
       "    }\n",
       "</style>\n",
       "<table border=\"1\" class=\"dataframe\">\n",
       "  <thead>\n",
       "    <tr style=\"text-align: right;\">\n",
       "      <th></th>\n",
       "      <th>unix</th>\n",
       "      <th>date</th>\n",
       "      <th>symbol</th>\n",
       "      <th>open</th>\n",
       "      <th>high</th>\n",
       "      <th>low</th>\n",
       "      <th>close</th>\n",
       "      <th>Volume BTC</th>\n",
       "      <th>Volume USD</th>\n",
       "      <th>openclose_pct</th>\n",
       "    </tr>\n",
       "  </thead>\n",
       "  <tbody>\n",
       "    <tr>\n",
       "      <th>0</th>\n",
       "      <td>1630108800</td>\n",
       "      <td>2021-08-28 00:00:00</td>\n",
       "      <td>BTC/USD</td>\n",
       "      <td>49100.49</td>\n",
       "      <td>49250.00</td>\n",
       "      <td>48875.00</td>\n",
       "      <td>48992.83</td>\n",
       "      <td>3.633715e+01</td>\n",
       "      <td>1.780260e+06</td>\n",
       "      <td>-0.219265</td>\n",
       "    </tr>\n",
       "    <tr>\n",
       "      <th>1</th>\n",
       "      <td>1630105200</td>\n",
       "      <td>2021-08-27 23:00:00</td>\n",
       "      <td>BTC/USD</td>\n",
       "      <td>49066.42</td>\n",
       "      <td>49139.95</td>\n",
       "      <td>48906.19</td>\n",
       "      <td>49100.49</td>\n",
       "      <td>5.579023e+01</td>\n",
       "      <td>2.739328e+06</td>\n",
       "      <td>0.069436</td>\n",
       "    </tr>\n",
       "    <tr>\n",
       "      <th>2</th>\n",
       "      <td>1630101600</td>\n",
       "      <td>2021-08-27 22:00:00</td>\n",
       "      <td>BTC/USD</td>\n",
       "      <td>48999.57</td>\n",
       "      <td>49069.38</td>\n",
       "      <td>48725.00</td>\n",
       "      <td>49014.60</td>\n",
       "      <td>3.628698e+01</td>\n",
       "      <td>1.778592e+06</td>\n",
       "      <td>0.030674</td>\n",
       "    </tr>\n",
       "    <tr>\n",
       "      <th>3</th>\n",
       "      <td>1630098000</td>\n",
       "      <td>2021-08-27 21:00:00</td>\n",
       "      <td>BTC/USD</td>\n",
       "      <td>48995.23</td>\n",
       "      <td>49089.58</td>\n",
       "      <td>48889.00</td>\n",
       "      <td>49005.09</td>\n",
       "      <td>5.816773e+01</td>\n",
       "      <td>2.850515e+06</td>\n",
       "      <td>0.020124</td>\n",
       "    </tr>\n",
       "    <tr>\n",
       "      <th>4</th>\n",
       "      <td>1630094400</td>\n",
       "      <td>2021-08-27 20:00:00</td>\n",
       "      <td>BTC/USD</td>\n",
       "      <td>48332.44</td>\n",
       "      <td>49187.00</td>\n",
       "      <td>48188.88</td>\n",
       "      <td>48950.41</td>\n",
       "      <td>1.283265e+02</td>\n",
       "      <td>6.281634e+06</td>\n",
       "      <td>1.278582</td>\n",
       "    </tr>\n",
       "    <tr>\n",
       "      <th>...</th>\n",
       "      <td>...</td>\n",
       "      <td>...</td>\n",
       "      <td>...</td>\n",
       "      <td>...</td>\n",
       "      <td>...</td>\n",
       "      <td>...</td>\n",
       "      <td>...</td>\n",
       "      <td>...</td>\n",
       "      <td>...</td>\n",
       "      <td>...</td>\n",
       "    </tr>\n",
       "    <tr>\n",
       "      <th>28814</th>\n",
       "      <td>1526378400</td>\n",
       "      <td>2018-05-15 10:00:00</td>\n",
       "      <td>BTC/USD</td>\n",
       "      <td>8708.32</td>\n",
       "      <td>8865.00</td>\n",
       "      <td>8695.11</td>\n",
       "      <td>8795.90</td>\n",
       "      <td>1.110127e+07</td>\n",
       "      <td>1.260690e+03</td>\n",
       "      <td>1.005705</td>\n",
       "    </tr>\n",
       "    <tr>\n",
       "      <th>28815</th>\n",
       "      <td>1526374800</td>\n",
       "      <td>2018-05-15 09:00:00</td>\n",
       "      <td>BTC/USD</td>\n",
       "      <td>8728.49</td>\n",
       "      <td>8754.40</td>\n",
       "      <td>8701.35</td>\n",
       "      <td>8708.32</td>\n",
       "      <td>1.593992e+06</td>\n",
       "      <td>1.826200e+02</td>\n",
       "      <td>-0.231082</td>\n",
       "    </tr>\n",
       "    <tr>\n",
       "      <th>28816</th>\n",
       "      <td>1526371200</td>\n",
       "      <td>2018-05-15 08:00:00</td>\n",
       "      <td>BTC/USD</td>\n",
       "      <td>8739.00</td>\n",
       "      <td>8750.27</td>\n",
       "      <td>8660.53</td>\n",
       "      <td>8728.49</td>\n",
       "      <td>7.986063e+06</td>\n",
       "      <td>9.177900e+02</td>\n",
       "      <td>-0.120265</td>\n",
       "    </tr>\n",
       "    <tr>\n",
       "      <th>28817</th>\n",
       "      <td>1526367600</td>\n",
       "      <td>2018-05-15 07:00:00</td>\n",
       "      <td>BTC/USD</td>\n",
       "      <td>8740.99</td>\n",
       "      <td>8766.00</td>\n",
       "      <td>8721.11</td>\n",
       "      <td>8739.00</td>\n",
       "      <td>2.390399e+06</td>\n",
       "      <td>2.735800e+02</td>\n",
       "      <td>-0.022766</td>\n",
       "    </tr>\n",
       "    <tr>\n",
       "      <th>28818</th>\n",
       "      <td>1526364000</td>\n",
       "      <td>2018-05-15 06:00:00</td>\n",
       "      <td>BTC/USD</td>\n",
       "      <td>8733.86</td>\n",
       "      <td>8796.68</td>\n",
       "      <td>8707.28</td>\n",
       "      <td>8740.99</td>\n",
       "      <td>4.906603e+06</td>\n",
       "      <td>5.599300e+02</td>\n",
       "      <td>0.081636</td>\n",
       "    </tr>\n",
       "  </tbody>\n",
       "</table>\n",
       "<p>28819 rows × 10 columns</p>\n",
       "</div>"
      ],
      "text/plain": [
       "             unix                 date   symbol      open      high       low  \\\n",
       "0      1630108800  2021-08-28 00:00:00  BTC/USD  49100.49  49250.00  48875.00   \n",
       "1      1630105200  2021-08-27 23:00:00  BTC/USD  49066.42  49139.95  48906.19   \n",
       "2      1630101600  2021-08-27 22:00:00  BTC/USD  48999.57  49069.38  48725.00   \n",
       "3      1630098000  2021-08-27 21:00:00  BTC/USD  48995.23  49089.58  48889.00   \n",
       "4      1630094400  2021-08-27 20:00:00  BTC/USD  48332.44  49187.00  48188.88   \n",
       "...           ...                  ...      ...       ...       ...       ...   \n",
       "28814  1526378400  2018-05-15 10:00:00  BTC/USD   8708.32   8865.00   8695.11   \n",
       "28815  1526374800  2018-05-15 09:00:00  BTC/USD   8728.49   8754.40   8701.35   \n",
       "28816  1526371200  2018-05-15 08:00:00  BTC/USD   8739.00   8750.27   8660.53   \n",
       "28817  1526367600  2018-05-15 07:00:00  BTC/USD   8740.99   8766.00   8721.11   \n",
       "28818  1526364000  2018-05-15 06:00:00  BTC/USD   8733.86   8796.68   8707.28   \n",
       "\n",
       "          close    Volume BTC    Volume USD  openclose_pct  \n",
       "0      48992.83  3.633715e+01  1.780260e+06      -0.219265  \n",
       "1      49100.49  5.579023e+01  2.739328e+06       0.069436  \n",
       "2      49014.60  3.628698e+01  1.778592e+06       0.030674  \n",
       "3      49005.09  5.816773e+01  2.850515e+06       0.020124  \n",
       "4      48950.41  1.283265e+02  6.281634e+06       1.278582  \n",
       "...         ...           ...           ...            ...  \n",
       "28814   8795.90  1.110127e+07  1.260690e+03       1.005705  \n",
       "28815   8708.32  1.593992e+06  1.826200e+02      -0.231082  \n",
       "28816   8728.49  7.986063e+06  9.177900e+02      -0.120265  \n",
       "28817   8739.00  2.390399e+06  2.735800e+02      -0.022766  \n",
       "28818   8740.99  4.906603e+06  5.599300e+02       0.081636  \n",
       "\n",
       "[28819 rows x 10 columns]"
      ]
     },
     "execution_count": 9,
     "metadata": {},
     "output_type": "execute_result"
    }
   ],
   "source": [
    "BTCdf['openclose_pct'] = ((BTCdf['close'] - BTCdf['open'])/BTCdf['open']) * 100\n",
    "BTCdf"
   ]
  },
  {
   "cell_type": "code",
   "execution_count": 10,
   "id": "9edcef23",
   "metadata": {},
   "outputs": [
    {
     "data": {
      "text/html": [
       "<div>\n",
       "<style scoped>\n",
       "    .dataframe tbody tr th:only-of-type {\n",
       "        vertical-align: middle;\n",
       "    }\n",
       "\n",
       "    .dataframe tbody tr th {\n",
       "        vertical-align: top;\n",
       "    }\n",
       "\n",
       "    .dataframe thead th {\n",
       "        text-align: right;\n",
       "    }\n",
       "</style>\n",
       "<table border=\"1\" class=\"dataframe\">\n",
       "  <thead>\n",
       "    <tr style=\"text-align: right;\">\n",
       "      <th></th>\n",
       "      <th>unix</th>\n",
       "      <th>date</th>\n",
       "      <th>symbol</th>\n",
       "      <th>open</th>\n",
       "      <th>high</th>\n",
       "      <th>low</th>\n",
       "      <th>close</th>\n",
       "      <th>Volume ETH</th>\n",
       "      <th>Volume USD</th>\n",
       "      <th>openclose_pct</th>\n",
       "    </tr>\n",
       "  </thead>\n",
       "  <tbody>\n",
       "    <tr>\n",
       "      <th>0</th>\n",
       "      <td>1630108800</td>\n",
       "      <td>2021-08-28 00:00:00</td>\n",
       "      <td>ETH/USD</td>\n",
       "      <td>3271.67</td>\n",
       "      <td>3288.71</td>\n",
       "      <td>3260.01</td>\n",
       "      <td>3268.53</td>\n",
       "      <td>2.095992e+02</td>\n",
       "      <td>6.850812e+05</td>\n",
       "      <td>-0.095975</td>\n",
       "    </tr>\n",
       "    <tr>\n",
       "      <th>1</th>\n",
       "      <td>1630105200</td>\n",
       "      <td>2021-08-27 23:00:00</td>\n",
       "      <td>ETH/USD</td>\n",
       "      <td>3276.08</td>\n",
       "      <td>3283.47</td>\n",
       "      <td>3263.28</td>\n",
       "      <td>3276.68</td>\n",
       "      <td>2.336721e+02</td>\n",
       "      <td>7.656687e+05</td>\n",
       "      <td>0.018315</td>\n",
       "    </tr>\n",
       "    <tr>\n",
       "      <th>2</th>\n",
       "      <td>1630101600</td>\n",
       "      <td>2021-08-27 22:00:00</td>\n",
       "      <td>ETH/USD</td>\n",
       "      <td>3276.46</td>\n",
       "      <td>3278.17</td>\n",
       "      <td>3255.52</td>\n",
       "      <td>3276.07</td>\n",
       "      <td>3.793405e+02</td>\n",
       "      <td>1.242746e+06</td>\n",
       "      <td>-0.011903</td>\n",
       "    </tr>\n",
       "    <tr>\n",
       "      <th>3</th>\n",
       "      <td>1630098000</td>\n",
       "      <td>2021-08-27 21:00:00</td>\n",
       "      <td>ETH/USD</td>\n",
       "      <td>3264.84</td>\n",
       "      <td>3280.00</td>\n",
       "      <td>3261.52</td>\n",
       "      <td>3276.46</td>\n",
       "      <td>4.899050e+02</td>\n",
       "      <td>1.605154e+06</td>\n",
       "      <td>0.355913</td>\n",
       "    </tr>\n",
       "    <tr>\n",
       "      <th>4</th>\n",
       "      <td>1630094400</td>\n",
       "      <td>2021-08-27 20:00:00</td>\n",
       "      <td>ETH/USD</td>\n",
       "      <td>3235.00</td>\n",
       "      <td>3277.00</td>\n",
       "      <td>3225.46</td>\n",
       "      <td>3263.73</td>\n",
       "      <td>1.705007e+03</td>\n",
       "      <td>5.564682e+06</td>\n",
       "      <td>0.888099</td>\n",
       "    </tr>\n",
       "    <tr>\n",
       "      <th>...</th>\n",
       "      <td>...</td>\n",
       "      <td>...</td>\n",
       "      <td>...</td>\n",
       "      <td>...</td>\n",
       "      <td>...</td>\n",
       "      <td>...</td>\n",
       "      <td>...</td>\n",
       "      <td>...</td>\n",
       "      <td>...</td>\n",
       "      <td>...</td>\n",
       "    </tr>\n",
       "    <tr>\n",
       "      <th>28814</th>\n",
       "      <td>1526378400</td>\n",
       "      <td>2018-05-15 10:00:00</td>\n",
       "      <td>ETH/USD</td>\n",
       "      <td>727.32</td>\n",
       "      <td>739.37</td>\n",
       "      <td>725.04</td>\n",
       "      <td>733.59</td>\n",
       "      <td>1.424388e+06</td>\n",
       "      <td>1.943150e+03</td>\n",
       "      <td>0.862069</td>\n",
       "    </tr>\n",
       "    <tr>\n",
       "      <th>28815</th>\n",
       "      <td>1526374800</td>\n",
       "      <td>2018-05-15 09:00:00</td>\n",
       "      <td>ETH/USD</td>\n",
       "      <td>731.68</td>\n",
       "      <td>731.82</td>\n",
       "      <td>726.98</td>\n",
       "      <td>727.32</td>\n",
       "      <td>4.384113e+05</td>\n",
       "      <td>6.010300e+02</td>\n",
       "      <td>-0.595889</td>\n",
       "    </tr>\n",
       "    <tr>\n",
       "      <th>28816</th>\n",
       "      <td>1526371200</td>\n",
       "      <td>2018-05-15 08:00:00</td>\n",
       "      <td>ETH/USD</td>\n",
       "      <td>733.82</td>\n",
       "      <td>734.92</td>\n",
       "      <td>721.58</td>\n",
       "      <td>731.68</td>\n",
       "      <td>2.860231e+06</td>\n",
       "      <td>3.924550e+03</td>\n",
       "      <td>-0.291625</td>\n",
       "    </tr>\n",
       "    <tr>\n",
       "      <th>28817</th>\n",
       "      <td>1526367600</td>\n",
       "      <td>2018-05-15 07:00:00</td>\n",
       "      <td>ETH/USD</td>\n",
       "      <td>733.00</td>\n",
       "      <td>735.99</td>\n",
       "      <td>730.45</td>\n",
       "      <td>733.82</td>\n",
       "      <td>2.594569e+05</td>\n",
       "      <td>3.538200e+02</td>\n",
       "      <td>0.111869</td>\n",
       "    </tr>\n",
       "    <tr>\n",
       "      <th>28818</th>\n",
       "      <td>1526364000</td>\n",
       "      <td>2018-05-15 06:00:00</td>\n",
       "      <td>ETH/USD</td>\n",
       "      <td>732.10</td>\n",
       "      <td>736.67</td>\n",
       "      <td>730.94</td>\n",
       "      <td>733.00</td>\n",
       "      <td>7.662087e+05</td>\n",
       "      <td>1.043910e+03</td>\n",
       "      <td>0.122934</td>\n",
       "    </tr>\n",
       "  </tbody>\n",
       "</table>\n",
       "<p>28819 rows × 10 columns</p>\n",
       "</div>"
      ],
      "text/plain": [
       "             unix                 date   symbol     open     high      low  \\\n",
       "0      1630108800  2021-08-28 00:00:00  ETH/USD  3271.67  3288.71  3260.01   \n",
       "1      1630105200  2021-08-27 23:00:00  ETH/USD  3276.08  3283.47  3263.28   \n",
       "2      1630101600  2021-08-27 22:00:00  ETH/USD  3276.46  3278.17  3255.52   \n",
       "3      1630098000  2021-08-27 21:00:00  ETH/USD  3264.84  3280.00  3261.52   \n",
       "4      1630094400  2021-08-27 20:00:00  ETH/USD  3235.00  3277.00  3225.46   \n",
       "...           ...                  ...      ...      ...      ...      ...   \n",
       "28814  1526378400  2018-05-15 10:00:00  ETH/USD   727.32   739.37   725.04   \n",
       "28815  1526374800  2018-05-15 09:00:00  ETH/USD   731.68   731.82   726.98   \n",
       "28816  1526371200  2018-05-15 08:00:00  ETH/USD   733.82   734.92   721.58   \n",
       "28817  1526367600  2018-05-15 07:00:00  ETH/USD   733.00   735.99   730.45   \n",
       "28818  1526364000  2018-05-15 06:00:00  ETH/USD   732.10   736.67   730.94   \n",
       "\n",
       "         close    Volume ETH    Volume USD  openclose_pct  \n",
       "0      3268.53  2.095992e+02  6.850812e+05      -0.095975  \n",
       "1      3276.68  2.336721e+02  7.656687e+05       0.018315  \n",
       "2      3276.07  3.793405e+02  1.242746e+06      -0.011903  \n",
       "3      3276.46  4.899050e+02  1.605154e+06       0.355913  \n",
       "4      3263.73  1.705007e+03  5.564682e+06       0.888099  \n",
       "...        ...           ...           ...            ...  \n",
       "28814   733.59  1.424388e+06  1.943150e+03       0.862069  \n",
       "28815   727.32  4.384113e+05  6.010300e+02      -0.595889  \n",
       "28816   731.68  2.860231e+06  3.924550e+03      -0.291625  \n",
       "28817   733.82  2.594569e+05  3.538200e+02       0.111869  \n",
       "28818   733.00  7.662087e+05  1.043910e+03       0.122934  \n",
       "\n",
       "[28819 rows x 10 columns]"
      ]
     },
     "execution_count": 10,
     "metadata": {},
     "output_type": "execute_result"
    }
   ],
   "source": [
    "ETHdf['openclose_pct'] = ((ETHdf['close'] - ETHdf['open'])/ETHdf['open']) * 100\n",
    "ETHdf"
   ]
  },
  {
   "cell_type": "code",
   "execution_count": 11,
   "id": "b99f6c7d",
   "metadata": {},
   "outputs": [
    {
     "data": {
      "text/plain": [
       "4.913425170894202"
      ]
     },
     "execution_count": 11,
     "metadata": {},
     "output_type": "execute_result"
    }
   ],
   "source": [
    "ETHdf[ETHdf.openclose_pct > 1.5].size/ETHdf.size *100"
   ]
  },
  {
   "cell_type": "code",
   "execution_count": 12,
   "id": "5769bd26",
   "metadata": {},
   "outputs": [
    {
     "data": {
      "text/plain": [
       "2.7551268260522574"
      ]
     },
     "execution_count": 12,
     "metadata": {},
     "output_type": "execute_result"
    }
   ],
   "source": [
    "BTCdf[BTCdf.openclose_pct > 1.5].size/BTCdf.size *100"
   ]
  },
  {
   "cell_type": "markdown",
   "id": "4ce93994",
   "metadata": {},
   "source": [
    "Evidently from this outcome, we can imply that Ethereum has a higher overall amount of volume which had a significant increase in prices."
   ]
  },
  {
   "cell_type": "markdown",
   "id": "e842d2cf",
   "metadata": {},
   "source": [
    "### Comparing the % of times when the closing prices is less than 98.5% of the opening price"
   ]
  },
  {
   "cell_type": "code",
   "execution_count": 13,
   "id": "9a8dc027",
   "metadata": {},
   "outputs": [
    {
     "data": {
      "text/plain": [
       "4.701759256046358"
      ]
     },
     "execution_count": 13,
     "metadata": {},
     "output_type": "execute_result"
    }
   ],
   "source": [
    "ETHdf[ETHdf.openclose_pct < -1.5].size/ETHdf.size *100"
   ]
  },
  {
   "cell_type": "code",
   "execution_count": 14,
   "id": "233b68ce",
   "metadata": {},
   "outputs": [
    {
     "data": {
      "text/plain": [
       "2.876574482112495"
      ]
     },
     "execution_count": 14,
     "metadata": {},
     "output_type": "execute_result"
    }
   ],
   "source": [
    "BTCdf[BTCdf.openclose_pct < -1.5].size/BTCdf.size *100"
   ]
  },
  {
   "cell_type": "markdown",
   "id": "ee603bee",
   "metadata": {},
   "source": [
    "We can see that Ethereum has a higher portion of hourly periods that drop below 1.5% from the closing rate so we can assume that even though Ethereum has a higher amount of periods which increase in prices, it also has a larger portion which drops significantly, causing it to be riskier to invest."
   ]
  },
  {
   "cell_type": "markdown",
   "id": "e6c3b801",
   "metadata": {},
   "source": [
    "### Comparing the volatility of both cryptocurrencies"
   ]
  },
  {
   "cell_type": "code",
   "execution_count": 15,
   "id": "ca2916a1",
   "metadata": {},
   "outputs": [
    {
     "data": {
      "text/plain": [
       "1.0453170988531089"
      ]
     },
     "execution_count": 15,
     "metadata": {},
     "output_type": "execute_result"
    }
   ],
   "source": [
    "ETHdf.openclose_pct.std()"
   ]
  },
  {
   "cell_type": "code",
   "execution_count": 16,
   "id": "27490463",
   "metadata": {},
   "outputs": [
    {
     "data": {
      "text/plain": [
       "0.8304711696806759"
      ]
     },
     "execution_count": 16,
     "metadata": {},
     "output_type": "execute_result"
    }
   ],
   "source": [
    "BTCdf.openclose_pct.std()"
   ]
  },
  {
   "cell_type": "markdown",
   "id": "59c4132f",
   "metadata": {},
   "source": [
    "This supports the statement above highlighting how the volatility in Ethereum is higher compared to Bitcoin, and so it is riskier to go into Ethereum yet it may be more rewarding"
   ]
  },
  {
   "cell_type": "code",
   "execution_count": 17,
   "id": "85e67d73",
   "metadata": {},
   "outputs": [
    {
     "data": {
      "text/plain": [
       "0.008907173516535749"
      ]
     },
     "execution_count": 17,
     "metadata": {},
     "output_type": "execute_result"
    }
   ],
   "source": [
    "ETHdf.openclose_pct.mean()"
   ]
  },
  {
   "cell_type": "code",
   "execution_count": 18,
   "id": "7dc19326",
   "metadata": {},
   "outputs": [
    {
     "data": {
      "text/plain": [
       "0.009460785221856572"
      ]
     },
     "execution_count": 18,
     "metadata": {},
     "output_type": "execute_result"
    }
   ],
   "source": [
    "BTCdf.openclose_pct.mean()"
   ]
  },
  {
   "cell_type": "markdown",
   "id": "20986a5b",
   "metadata": {},
   "source": [
    "### Percent of times that both crypto increase/decrease together\n",
    "This allows us to determine how often the cryptocurrencies correlate with each other"
   ]
  },
  {
   "cell_type": "code",
   "execution_count": 19,
   "id": "106cd7ca",
   "metadata": {},
   "outputs": [
    {
     "data": {
      "text/plain": [
       "True     0.815677\n",
       "False    0.184323\n",
       "Name: correlates, dtype: float64"
      ]
     },
     "execution_count": 19,
     "metadata": {},
     "output_type": "execute_result"
    }
   ],
   "source": [
    "# Creating a new column to see whether the cryptocurrency increased or not\n",
    "BTCdf['increased'] = BTCdf['openclose_pct'] > 0\n",
    "ETHdf['increased'] = ETHdf['openclose_pct'] > 0\n",
    "\n",
    "# Creating a new table to compare if both has increased or not\n",
    "df = {'correlates': []}\n",
    "df = pd.DataFrame(df, columns= ['correlates'])\n",
    "df['correlates'] = np.where(ETHdf['increased'] == BTCdf['increased'], 'True', 'False')\n",
    "df.correlates.value_counts(normalize = True)"
   ]
  },
  {
   "cell_type": "markdown",
   "id": "1852a9b6",
   "metadata": {},
   "source": [
    "As it has an 81.57% correlation rate, it is evident that Bitcoin and Ethereum do follow similar trends"
   ]
  },
  {
   "cell_type": "markdown",
   "id": "49f79650",
   "metadata": {},
   "source": [
    "### The proportion of times that the cryptocurrencies follow the trend of the previous period"
   ]
  },
  {
   "cell_type": "code",
   "execution_count": 30,
   "id": "c732022c",
   "metadata": {},
   "outputs": [
    {
     "data": {
      "text/plain": [
       "False    0.54471\n",
       "True     0.45529\n",
       "Name: follows, dtype: float64"
      ]
     },
     "execution_count": 30,
     "metadata": {},
     "output_type": "execute_result"
    }
   ],
   "source": [
    "# Creating a new column which finds if the previous period has increased or not\n",
    "BTCdf['increased (t-1)'] = BTCdf['increased'].shift(-1)\n",
    "\n",
    "# Creating new database to find the trends\n",
    "BTCdf_increased = {'follows': []}\n",
    "BTCdf_increased = pd.DataFrame(BTCdf_increased, columns= ['follows'])\n",
    "BTCdf_increased['follows'] = np.where(BTCdf['increased'] == BTCdf['increased (t-1)'], 'True', 'False')\n",
    "BTCdf_increased.follows.value_counts(normalize = True)"
   ]
  },
  {
   "cell_type": "code",
   "execution_count": 31,
   "id": "f4ac94ac",
   "metadata": {},
   "outputs": [
    {
     "data": {
      "text/plain": [
       "False    0.541865\n",
       "True     0.458135\n",
       "Name: follows, dtype: float64"
      ]
     },
     "execution_count": 31,
     "metadata": {},
     "output_type": "execute_result"
    }
   ],
   "source": [
    "# Creating a new column which finds if the previous period has increased or not\n",
    "ETHdf['increased (t-1)'] = ETHdf['increased'].shift(-1)\n",
    "\n",
    "# Creating new database to find the trends\n",
    "ETHdf_increased = {'follows': []}\n",
    "ETHdf_increased = pd.DataFrame(ETHdf_increased, columns= ['follows'])\n",
    "ETHdf_increased['follows'] = np.where(ETHdf['increased'] == ETHdf['increased (t-1)'], 'True', 'False')\n",
    "ETHdf_increased.follows.value_counts(normalize = True)"
   ]
  },
  {
   "cell_type": "markdown",
   "id": "b6553ead",
   "metadata": {},
   "source": [
    "Evidently, from above we can tell that they do not follow the trend of the previous period and that it would be a failing strategy to do so, but yet, as seen above, as the correlation was between Ethereum and Bitcoin was high, we achieved similar results for both the trends on Ethereum and Bitcoin"
   ]
  }
 ],
 "metadata": {
  "kernelspec": {
   "display_name": "Python 3 (ipykernel)",
   "language": "python",
   "name": "python3"
  },
  "language_info": {
   "codemirror_mode": {
    "name": "ipython",
    "version": 3
   },
   "file_extension": ".py",
   "mimetype": "text/x-python",
   "name": "python",
   "nbconvert_exporter": "python",
   "pygments_lexer": "ipython3",
   "version": "3.9.6"
  }
 },
 "nbformat": 4,
 "nbformat_minor": 5
}
